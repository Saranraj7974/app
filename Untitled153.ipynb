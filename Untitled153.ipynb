{
  "nbformat": 4,
  "nbformat_minor": 0,
  "metadata": {
    "colab": {
      "private_outputs": true,
      "provenance": []
    },
    "kernelspec": {
      "name": "python3",
      "display_name": "Python 3"
    },
    "language_info": {
      "name": "python"
    }
  },
  "cells": [
    {
      "cell_type": "code",
      "execution_count": null,
      "metadata": {
        "id": "xXY4gSGv7JVW"
      },
      "outputs": [],
      "source": [
        "import streamlit as st\n",
        "import yfinance as yf\n",
        "import pandas as pd\n",
        "import numpy as np\n",
        "import matplotlib.pyplot as plt\n",
        "import seaborn as sns\n",
        "\n",
        "st.set_page_config(page_title=\"NIFTY 50 Dashboard\", layout=\"wide\")\n",
        "\n",
        "st.title(\"📊 NIFTY 50 Stock Market Dashboard\")\n",
        "\n",
        "# Download NIFTY 50 data\n",
        "nifty50_tickers = [\n",
        "    \"RELIANCE.NS\", \"TCS.NS\", \"INFY.NS\", \"HDFCBANK.NS\", \"ICICIBANK.NS\",\n",
        "    \"HINDUNILVR.NS\", \"ITC.NS\", \"LT.NS\", \"SBIN.NS\", \"KOTAKBANK.NS\",\n",
        "    \"AXISBANK.NS\", \"ASIANPAINT.NS\", \"BAJFINANCE.NS\", \"BHARTIARTL.NS\",\n",
        "    \"HCLTECH.NS\", \"SUNPHARMA.NS\", \"MARUTI.NS\", \"NTPC.NS\", \"TITAN.NS\",\n",
        "    \"ULTRACEMCO.NS\", \"WIPRO.NS\", \"TECHM.NS\", \"POWERGRID.NS\", \"NESTLEIND.NS\",\n",
        "    \"JSWSTEEL.NS\", \"TATASTEEL.NS\", \"ADANIENT.NS\", \"COALINDIA.NS\", \"BAJAJFINSV.NS\",\n",
        "    \"DIVISLAB.NS\", \"GRASIM.NS\", \"HDFCLIFE.NS\", \"CIPLA.NS\", \"SBILIFE.NS\",\n",
        "    \"BRITANNIA.NS\", \"EICHERMOT.NS\", \"HEROMOTOCO.NS\", \"BAJAJ-AUTO.NS\",\n",
        "    \"INDUSINDBK.NS\", \"BPCL.NS\", \"SHREECEM.NS\", \"DRREDDY.NS\", \"HINDALCO.NS\",\n",
        "    \"ONGC.NS\", \"TATAMOTORS.NS\", \"APOLLOHOSP.NS\", \"M&M.NS\", \"UPL.NS\", \"ADANIPORTS.NS\"\n",
        "]\n",
        "\n",
        "st.sidebar.header(\"Dashboard Controls\")\n",
        "start_date = st.sidebar.date_input(\"Start Date\", pd.to_datetime(\"2020-01-01\"))\n",
        "end_date = st.sidebar.date_input(\"End Date\", pd.to_datetime(\"2025-01-01\"))\n",
        "\n",
        "st.write(\"Fetching data... this may take a while ⏳\")\n",
        "data = yf.download(nifty50_tickers, start=start_date, end=end_date)\n",
        "data.dropna(inplace=True)\n",
        "\n",
        "# Show raw data\n",
        "st.subheader(\"📂 Raw Stock Data\")\n",
        "st.dataframe(data.head())\n",
        "\n",
        "# Calculate returns\n",
        "returns = data[\"Close\"].pct_change().dropna()\n",
        "log_returns = np.log(1 + returns).dropna()\n",
        "\n",
        "st.subheader(\"📈 Summary Statistics\")\n",
        "st.write(returns.describe())\n",
        "\n",
        "# Correlation heatmap\n",
        "st.subheader(\"🔥 Correlation Heatmap\")\n",
        "fig, ax = plt.subplots(figsize=(12, 6))\n",
        "sns.heatmap(returns.corr(), annot=False, cmap=\"coolwarm\", ax=ax)\n",
        "st.pyplot(fig)\n",
        "\n",
        "# Stock price trend\n",
        "st.subheader(\"📉 Stock Price Trend\")\n",
        "selected_stock = st.selectbox(\"Choose a stock\", nifty50_tickers)\n",
        "fig2, ax2 = plt.subplots(figsize=(12, 6))\n",
        "ax2.plot(data[\"Close\"][selected_stock], label=selected_stock)\n",
        "ax2.set_title(f\"{selected_stock} Closing Price\")\n",
        "ax2.legend()\n",
        "st.pyplot(fig2)\n",
        "\n",
        "# Daily returns distribution\n",
        "st.subheader(\"📊 Daily Returns Distribution\")\n",
        "fig3, ax3 = plt.subplots(figsize=(10, 5))\n",
        "sns.histplot(returns[selected_stock], bins=50, kde=True, ax=ax3)\n",
        "ax3.set_title(f\"{selected_stock} Daily Returns\")\n",
        "st.pyplot(fig3)\n"
      ]
    }
  ]
}